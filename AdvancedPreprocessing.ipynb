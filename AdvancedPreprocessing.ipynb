{
  "nbformat": 4,
  "nbformat_minor": 0,
  "metadata": {
    "colab": {
      "provenance": [],
      "authorship_tag": "ABX9TyPXjahagIKipMiQJQW6VUtb",
      "include_colab_link": true
    },
    "kernelspec": {
      "name": "python3",
      "display_name": "Python 3"
    },
    "language_info": {
      "name": "python"
    }
  },
  "cells": [
    {
      "cell_type": "markdown",
      "metadata": {
        "id": "view-in-github",
        "colab_type": "text"
      },
      "source": [
        "<a href=\"https://colab.research.google.com/github/bvdsb01/nlp/blob/main/AdvancedPreprocessing.ipynb\" target=\"_parent\"><img src=\"https://colab.research.google.com/assets/colab-badge.svg\" alt=\"Open In Colab\"/></a>"
      ]
    },
    {
      "cell_type": "markdown",
      "source": [
        "#**Advanced Preprocessing Overview**\n",
        "* POS Tagging - noun, pronoun, adjective (useful in chatbots)\n",
        "* Parsing - tries to understand syntactic structure of sentence (chatbots, Question Answering systems)\n",
        "* Co-reference resolution"
      ],
      "metadata": {
        "id": "EJnoVpjqAg9N"
      }
    },
    {
      "cell_type": "markdown",
      "source": [
        "Coreference resolution -\n",
        "e.g. Nitish plays piano. He is very good at it.\n",
        "\n",
        "So, in the above example Nitish and He are refering to the same person."
      ],
      "metadata": {
        "id": "lTjJ7HxPBeTN"
      }
    },
    {
      "cell_type": "markdown",
      "source": [
        "#Parts of Speech (POS) tagging can only be done when we don't remove stopwords. Because if we do it after stopwords removal words like an, the, for, and will be removed hence **POS tagging** and **parsing** will be **not possible**."
      ],
      "metadata": {
        "id": "irlvDcavBwCU"
      }
    },
    {
      "cell_type": "markdown",
      "source": [
        "**Be aware of what kind of application you are making and which steps to follow - one learns via practice."
      ],
      "metadata": {
        "id": "fn0ZCkQHCU6Q"
      }
    }
  ]
}