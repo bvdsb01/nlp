{
  "nbformat": 4,
  "nbformat_minor": 0,
  "metadata": {
    "colab": {
      "provenance": [],
      "authorship_tag": "ABX9TyOtABLE+D2HROpk59UHramb",
      "include_colab_link": true
    },
    "kernelspec": {
      "name": "python3",
      "display_name": "Python 3"
    },
    "language_info": {
      "name": "python"
    }
  },
  "cells": [
    {
      "cell_type": "markdown",
      "metadata": {
        "id": "view-in-github",
        "colab_type": "text"
      },
      "source": [
        "<a href=\"https://colab.research.google.com/github/bvdsb01/nlp/blob/main/Preprocessing.ipynb\" target=\"_parent\"><img src=\"https://colab.research.google.com/assets/colab-badge.svg\" alt=\"Open In Colab\"/></a>"
      ]
    },
    {
      "cell_type": "markdown",
      "source": [
        "#**Preprocessing step of NLP**"
      ],
      "metadata": {
        "id": "QM8G1hiT7iP1"
      }
    },
    {
      "cell_type": "code",
      "execution_count": 1,
      "metadata": {
        "id": "Hj6AxE7J6Iyf"
      },
      "outputs": [],
      "source": [
        "import re"
      ]
    },
    {
      "cell_type": "code",
      "source": [
        "def strip_the_html(data):\n",
        "  s = re.compile(r'<.*?>')\n",
        "  return s.sub(\"\", data)\n",
        "\n",
        "strip_the_html(\"<h2>HTML is basic</h2> <p>This is a paragraph</p>\")"
      ],
      "metadata": {
        "colab": {
          "base_uri": "https://localhost:8080/",
          "height": 35
        },
        "id": "yDsUgo3P6MNn",
        "outputId": "bd2e3b31-bb4d-43ce-ce1a-c0257d7e7b79"
      },
      "execution_count": 3,
      "outputs": [
        {
          "output_type": "execute_result",
          "data": {
            "text/plain": [
              "'HTML is basic This is a paragraph'"
            ],
            "application/vnd.google.colaboratory.intrinsic+json": {
              "type": "string"
            }
          },
          "metadata": {},
          "execution_count": 3
        }
      ]
    },
    {
      "cell_type": "code",
      "source": [
        "emoji_string = \"This is a fantastic opportunity 😊 for the coders, go and grab it ✌\"\n",
        "cleaned_string = emoji_string.encode('utf-8')\n",
        "cleaned_string # converts the emoji to machine understandable text"
      ],
      "metadata": {
        "colab": {
          "base_uri": "https://localhost:8080/"
        },
        "id": "OtCtomcO6cqz",
        "outputId": "ded2d25b-7c2a-4add-b3f4-69b8cb4fc42f"
      },
      "execution_count": 4,
      "outputs": [
        {
          "output_type": "execute_result",
          "data": {
            "text/plain": [
              "b'This is a fantastic opportunity \\xf0\\x9f\\x98\\x8a for the coders, go and grab it \\xe2\\x9c\\x8c'"
            ]
          },
          "metadata": {},
          "execution_count": 4
        }
      ]
    },
    {
      "cell_type": "code",
      "source": [
        "spelling_check = 'Tthiis is thee casee off checkingg thee spellinggg'\n",
        "from textblob import TextBlob\n",
        "text = TextBlob(spelling_check)\n",
        "correct_text = text.correct()\n",
        "correct_text"
      ],
      "metadata": {
        "colab": {
          "base_uri": "https://localhost:8080/"
        },
        "id": "8i1gOPtu6zZo",
        "outputId": "d2ea0de1-4088-48af-f949-5cdf7d8afbeb"
      },
      "execution_count": 8,
      "outputs": [
        {
          "output_type": "execute_result",
          "data": {
            "text/plain": [
              "TextBlob(\"This is thee cases off checking thee spelling\")"
            ]
          },
          "metadata": {},
          "execution_count": 8
        }
      ]
    },
    {
      "cell_type": "code",
      "source": [
        "#but not always that useful\n",
        "\n",
        "spelling = 'Tthiis is thee casee off checkingg thee spellingsgg'\n",
        "TextBlob(spelling).correct()\n"
      ],
      "metadata": {
        "colab": {
          "base_uri": "https://localhost:8080/"
        },
        "id": "Q1LcUjfc7JGm",
        "outputId": "29a62a72-d052-4edd-9347-f111742351ea"
      },
      "execution_count": 10,
      "outputs": [
        {
          "output_type": "execute_result",
          "data": {
            "text/plain": [
              "TextBlob(\"This is thee cases off checking thee spellingsgg\")"
            ]
          },
          "metadata": {},
          "execution_count": 10
        }
      ]
    }
  ]
}